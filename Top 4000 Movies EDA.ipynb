{
 "cells": [
  {
   "cell_type": "markdown",
   "id": "54cff38f",
   "metadata": {},
   "source": [
    "# Top 4000 Movies Analysis\n",
    "#### Dataset: https://www.kaggle.com/axeltorbenson/top-4000-movies"
   ]
  },
  {
   "cell_type": "markdown",
   "id": "8f791702",
   "metadata": {},
   "source": [
    "#### Import Libraries and Data"
   ]
  },
  {
   "cell_type": "code",
   "execution_count": 1,
   "id": "cb90f2d1",
   "metadata": {},
   "outputs": [],
   "source": [
    "import pandas as pd\n",
    "import matplotlib.pyplot as plt\n",
    "import seaborn as sns"
   ]
  },
  {
   "cell_type": "code",
   "execution_count": 2,
   "id": "26ed589e",
   "metadata": {},
   "outputs": [
    {
     "data": {
      "text/html": [
       "<div>\n",
       "<style scoped>\n",
       "    .dataframe tbody tr th:only-of-type {\n",
       "        vertical-align: middle;\n",
       "    }\n",
       "\n",
       "    .dataframe tbody tr th {\n",
       "        vertical-align: top;\n",
       "    }\n",
       "\n",
       "    .dataframe thead th {\n",
       "        text-align: right;\n",
       "    }\n",
       "</style>\n",
       "<table border=\"1\" class=\"dataframe\">\n",
       "  <thead>\n",
       "    <tr style=\"text-align: right;\">\n",
       "      <th></th>\n",
       "      <th>Release Date</th>\n",
       "      <th>Movie Title</th>\n",
       "      <th>Production Budget</th>\n",
       "      <th>Domestic Gross</th>\n",
       "      <th>Worldwide Gross</th>\n",
       "    </tr>\n",
       "  </thead>\n",
       "  <tbody>\n",
       "    <tr>\n",
       "      <th>0</th>\n",
       "      <td>4/23/2019</td>\n",
       "      <td>Avengers: Endgame</td>\n",
       "      <td>400000000</td>\n",
       "      <td>858373000</td>\n",
       "      <td>2797800564</td>\n",
       "    </tr>\n",
       "    <tr>\n",
       "      <th>1</th>\n",
       "      <td>5/20/2011</td>\n",
       "      <td>Pirates of the Caribbean: On Stranger Tides</td>\n",
       "      <td>379000000</td>\n",
       "      <td>241071802</td>\n",
       "      <td>1045713802</td>\n",
       "    </tr>\n",
       "    <tr>\n",
       "      <th>2</th>\n",
       "      <td>4/22/2015</td>\n",
       "      <td>Avengers: Age of Ultron</td>\n",
       "      <td>365000000</td>\n",
       "      <td>459005868</td>\n",
       "      <td>1395316979</td>\n",
       "    </tr>\n",
       "    <tr>\n",
       "      <th>3</th>\n",
       "      <td>12/16/2015</td>\n",
       "      <td>Star Wars Ep. VII: The Force Awakens</td>\n",
       "      <td>306000000</td>\n",
       "      <td>936662225</td>\n",
       "      <td>2064615817</td>\n",
       "    </tr>\n",
       "    <tr>\n",
       "      <th>4</th>\n",
       "      <td>4/25/2018</td>\n",
       "      <td>Avengers: Infinity War</td>\n",
       "      <td>300000000</td>\n",
       "      <td>678815482</td>\n",
       "      <td>2044540523</td>\n",
       "    </tr>\n",
       "  </tbody>\n",
       "</table>\n",
       "</div>"
      ],
      "text/plain": [
       "  Release Date                                  Movie Title  \\\n",
       "0    4/23/2019                            Avengers: Endgame   \n",
       "1    5/20/2011  Pirates of the Caribbean: On Stranger Tides   \n",
       "2    4/22/2015                      Avengers: Age of Ultron   \n",
       "3   12/16/2015         Star Wars Ep. VII: The Force Awakens   \n",
       "4    4/25/2018                       Avengers: Infinity War   \n",
       "\n",
       "   Production Budget  Domestic Gross  Worldwide Gross  \n",
       "0          400000000       858373000       2797800564  \n",
       "1          379000000       241071802       1045713802  \n",
       "2          365000000       459005868       1395316979  \n",
       "3          306000000       936662225       2064615817  \n",
       "4          300000000       678815482       2044540523  "
      ]
     },
     "execution_count": 2,
     "metadata": {},
     "output_type": "execute_result"
    }
   ],
   "source": [
    "df = pd.read_csv(\"top_4000_movies_data.csv\")\n",
    "df.head()"
   ]
  },
  {
   "cell_type": "markdown",
   "id": "96afd26c",
   "metadata": {},
   "source": [
    "#### Checking the data types"
   ]
  },
  {
   "cell_type": "code",
   "execution_count": 4,
   "id": "19e1ecbd",
   "metadata": {},
   "outputs": [
    {
     "name": "stdout",
     "output_type": "stream",
     "text": [
      "<class 'pandas.core.frame.DataFrame'>\n",
      "RangeIndex: 4000 entries, 0 to 3999\n",
      "Data columns (total 5 columns):\n",
      " #   Column             Non-Null Count  Dtype \n",
      "---  ------             --------------  ----- \n",
      " 0   Release Date       3979 non-null   object\n",
      " 1   Movie Title        4000 non-null   object\n",
      " 2   Production Budget  4000 non-null   int64 \n",
      " 3   Domestic Gross     4000 non-null   int64 \n",
      " 4   Worldwide Gross    4000 non-null   int64 \n",
      "dtypes: int64(3), object(2)\n",
      "memory usage: 156.4+ KB\n"
     ]
    }
   ],
   "source": [
    "df.info()"
   ]
  },
  {
   "cell_type": "markdown",
   "id": "81b6ac01",
   "metadata": {},
   "source": [
    "#### Check do we have NA"
   ]
  },
  {
   "cell_type": "code",
   "execution_count": 5,
   "id": "49fff3fd",
   "metadata": {},
   "outputs": [
    {
     "data": {
      "text/plain": [
       "Release Date         21\n",
       "Movie Title           0\n",
       "Production Budget     0\n",
       "Domestic Gross        0\n",
       "Worldwide Gross       0\n",
       "dtype: int64"
      ]
     },
     "execution_count": 5,
     "metadata": {},
     "output_type": "execute_result"
    }
   ],
   "source": [
    "df.isna().sum()"
   ]
  },
  {
   "cell_type": "code",
   "execution_count": 6,
   "id": "e823ff0f",
   "metadata": {},
   "outputs": [
    {
     "data": {
      "text/html": [
       "<div>\n",
       "<style scoped>\n",
       "    .dataframe tbody tr th:only-of-type {\n",
       "        vertical-align: middle;\n",
       "    }\n",
       "\n",
       "    .dataframe tbody tr th {\n",
       "        vertical-align: top;\n",
       "    }\n",
       "\n",
       "    .dataframe thead th {\n",
       "        text-align: right;\n",
       "    }\n",
       "</style>\n",
       "<table border=\"1\" class=\"dataframe\">\n",
       "  <thead>\n",
       "    <tr style=\"text-align: right;\">\n",
       "      <th></th>\n",
       "      <th>Release Date</th>\n",
       "      <th>Movie Title</th>\n",
       "      <th>Production Budget</th>\n",
       "      <th>Domestic Gross</th>\n",
       "      <th>Worldwide Gross</th>\n",
       "    </tr>\n",
       "  </thead>\n",
       "  <tbody>\n",
       "    <tr>\n",
       "      <th>801</th>\n",
       "      <td>NaN</td>\n",
       "      <td>b</td>\n",
       "      <td>70000000</td>\n",
       "      <td>0</td>\n",
       "      <td>0</td>\n",
       "    </tr>\n",
       "    <tr>\n",
       "      <th>1279</th>\n",
       "      <td>NaN</td>\n",
       "      <td>Hannibal the Conqueror</td>\n",
       "      <td>50000000</td>\n",
       "      <td>0</td>\n",
       "      <td>0</td>\n",
       "    </tr>\n",
       "    <tr>\n",
       "      <th>1449</th>\n",
       "      <td>NaN</td>\n",
       "      <td>Les Bronzés 3: amis pour la vie</td>\n",
       "      <td>42000000</td>\n",
       "      <td>0</td>\n",
       "      <td>83833602</td>\n",
       "    </tr>\n",
       "    <tr>\n",
       "      <th>1637</th>\n",
       "      <td>NaN</td>\n",
       "      <td>Down Under Cover</td>\n",
       "      <td>40000000</td>\n",
       "      <td>0</td>\n",
       "      <td>0</td>\n",
       "    </tr>\n",
       "    <tr>\n",
       "      <th>1704</th>\n",
       "      <td>NaN</td>\n",
       "      <td>Obitaemyy ostrov</td>\n",
       "      <td>36500000</td>\n",
       "      <td>0</td>\n",
       "      <td>15000000</td>\n",
       "    </tr>\n",
       "    <tr>\n",
       "      <th>1860</th>\n",
       "      <td>NaN</td>\n",
       "      <td>Black Water Transit</td>\n",
       "      <td>35000000</td>\n",
       "      <td>0</td>\n",
       "      <td>0</td>\n",
       "    </tr>\n",
       "    <tr>\n",
       "      <th>1926</th>\n",
       "      <td>NaN</td>\n",
       "      <td>George and the Dragon</td>\n",
       "      <td>32000000</td>\n",
       "      <td>0</td>\n",
       "      <td>0</td>\n",
       "    </tr>\n",
       "    <tr>\n",
       "      <th>2125</th>\n",
       "      <td>NaN</td>\n",
       "      <td>Konferenz der Tiere</td>\n",
       "      <td>30000000</td>\n",
       "      <td>0</td>\n",
       "      <td>53048539</td>\n",
       "    </tr>\n",
       "    <tr>\n",
       "      <th>2204</th>\n",
       "      <td>NaN</td>\n",
       "      <td>Alatriste</td>\n",
       "      <td>28000000</td>\n",
       "      <td>0</td>\n",
       "      <td>22860477</td>\n",
       "    </tr>\n",
       "    <tr>\n",
       "      <th>2455</th>\n",
       "      <td>NaN</td>\n",
       "      <td>Sammy's avonturen: De geheime doorgang</td>\n",
       "      <td>25000000</td>\n",
       "      <td>0</td>\n",
       "      <td>71594792</td>\n",
       "    </tr>\n",
       "    <tr>\n",
       "      <th>2464</th>\n",
       "      <td>NaN</td>\n",
       "      <td>Reagan</td>\n",
       "      <td>25000000</td>\n",
       "      <td>0</td>\n",
       "      <td>0</td>\n",
       "    </tr>\n",
       "    <tr>\n",
       "      <th>2503</th>\n",
       "      <td>NaN</td>\n",
       "      <td>Flood</td>\n",
       "      <td>24000000</td>\n",
       "      <td>0</td>\n",
       "      <td>4084232</td>\n",
       "    </tr>\n",
       "    <tr>\n",
       "      <th>2865</th>\n",
       "      <td>NaN</td>\n",
       "      <td>Admiral</td>\n",
       "      <td>20000000</td>\n",
       "      <td>0</td>\n",
       "      <td>38585047</td>\n",
       "    </tr>\n",
       "    <tr>\n",
       "      <th>2875</th>\n",
       "      <td>NaN</td>\n",
       "      <td>The Thousand Miles</td>\n",
       "      <td>20000000</td>\n",
       "      <td>0</td>\n",
       "      <td>0</td>\n",
       "    </tr>\n",
       "    <tr>\n",
       "      <th>3015</th>\n",
       "      <td>NaN</td>\n",
       "      <td>I Come with the Rain</td>\n",
       "      <td>18000000</td>\n",
       "      <td>0</td>\n",
       "      <td>627422</td>\n",
       "    </tr>\n",
       "    <tr>\n",
       "      <th>3032</th>\n",
       "      <td>NaN</td>\n",
       "      <td>Taxi 4</td>\n",
       "      <td>17500000</td>\n",
       "      <td>0</td>\n",
       "      <td>60865364</td>\n",
       "    </tr>\n",
       "    <tr>\n",
       "      <th>3096</th>\n",
       "      <td>NaN</td>\n",
       "      <td>Arn - Tempelriddaren</td>\n",
       "      <td>16500000</td>\n",
       "      <td>0</td>\n",
       "      <td>21404122</td>\n",
       "    </tr>\n",
       "    <tr>\n",
       "      <th>3350</th>\n",
       "      <td>NaN</td>\n",
       "      <td>Bathory</td>\n",
       "      <td>15000000</td>\n",
       "      <td>0</td>\n",
       "      <td>3436763</td>\n",
       "    </tr>\n",
       "    <tr>\n",
       "      <th>3428</th>\n",
       "      <td>NaN</td>\n",
       "      <td>Cah</td>\n",
       "      <td>13700000</td>\n",
       "      <td>0</td>\n",
       "      <td>11738256</td>\n",
       "    </tr>\n",
       "    <tr>\n",
       "      <th>3967</th>\n",
       "      <td>NaN</td>\n",
       "      <td>The Reef</td>\n",
       "      <td>10000000</td>\n",
       "      <td>0</td>\n",
       "      <td>15037867</td>\n",
       "    </tr>\n",
       "    <tr>\n",
       "      <th>3982</th>\n",
       "      <td>NaN</td>\n",
       "      <td>Good Intentions</td>\n",
       "      <td>10000000</td>\n",
       "      <td>0</td>\n",
       "      <td>0</td>\n",
       "    </tr>\n",
       "  </tbody>\n",
       "</table>\n",
       "</div>"
      ],
      "text/plain": [
       "     Release Date                             Movie Title  Production Budget  \\\n",
       "801           NaN                                       b           70000000   \n",
       "1279          NaN                  Hannibal the Conqueror           50000000   \n",
       "1449          NaN         Les Bronzés 3: amis pour la vie           42000000   \n",
       "1637          NaN                        Down Under Cover           40000000   \n",
       "1704          NaN                        Obitaemyy ostrov           36500000   \n",
       "1860          NaN                     Black Water Transit           35000000   \n",
       "1926          NaN                   George and the Dragon           32000000   \n",
       "2125          NaN                     Konferenz der Tiere           30000000   \n",
       "2204          NaN                               Alatriste           28000000   \n",
       "2455          NaN  Sammy's avonturen: De geheime doorgang           25000000   \n",
       "2464          NaN                                  Reagan           25000000   \n",
       "2503          NaN                                   Flood           24000000   \n",
       "2865          NaN                                 Admiral           20000000   \n",
       "2875          NaN                      The Thousand Miles           20000000   \n",
       "3015          NaN                    I Come with the Rain           18000000   \n",
       "3032          NaN                                  Taxi 4           17500000   \n",
       "3096          NaN                    Arn - Tempelriddaren           16500000   \n",
       "3350          NaN                                 Bathory           15000000   \n",
       "3428          NaN                                     Cah           13700000   \n",
       "3967          NaN                                The Reef           10000000   \n",
       "3982          NaN                         Good Intentions           10000000   \n",
       "\n",
       "      Domestic Gross  Worldwide Gross  \n",
       "801                0                0  \n",
       "1279               0                0  \n",
       "1449               0         83833602  \n",
       "1637               0                0  \n",
       "1704               0         15000000  \n",
       "1860               0                0  \n",
       "1926               0                0  \n",
       "2125               0         53048539  \n",
       "2204               0         22860477  \n",
       "2455               0         71594792  \n",
       "2464               0                0  \n",
       "2503               0          4084232  \n",
       "2865               0         38585047  \n",
       "2875               0                0  \n",
       "3015               0           627422  \n",
       "3032               0         60865364  \n",
       "3096               0         21404122  \n",
       "3350               0          3436763  \n",
       "3428               0         11738256  \n",
       "3967               0         15037867  \n",
       "3982               0                0  "
      ]
     },
     "execution_count": 6,
     "metadata": {},
     "output_type": "execute_result"
    }
   ],
   "source": [
    "df[df['Release Date'].isna()]"
   ]
  },
  {
   "cell_type": "markdown",
   "id": "c3871ca6",
   "metadata": {},
   "source": [
    "#### Remove the NA values"
   ]
  },
  {
   "cell_type": "code",
   "execution_count": 8,
   "id": "0af80d32",
   "metadata": {},
   "outputs": [
    {
     "data": {
      "text/plain": [
       "(3979, 5)"
      ]
     },
     "execution_count": 8,
     "metadata": {},
     "output_type": "execute_result"
    }
   ],
   "source": [
    "df.dropna(inplace = True)\n",
    "df.shape"
   ]
  },
  {
   "cell_type": "code",
   "execution_count": 10,
   "id": "22e18acc",
   "metadata": {},
   "outputs": [
    {
     "data": {
      "text/html": [
       "<div>\n",
       "<style scoped>\n",
       "    .dataframe tbody tr th:only-of-type {\n",
       "        vertical-align: middle;\n",
       "    }\n",
       "\n",
       "    .dataframe tbody tr th {\n",
       "        vertical-align: top;\n",
       "    }\n",
       "\n",
       "    .dataframe thead th {\n",
       "        text-align: right;\n",
       "    }\n",
       "</style>\n",
       "<table border=\"1\" class=\"dataframe\">\n",
       "  <thead>\n",
       "    <tr style=\"text-align: right;\">\n",
       "      <th></th>\n",
       "      <th>Release Date</th>\n",
       "      <th>Movie Title</th>\n",
       "      <th>Production Budget</th>\n",
       "      <th>Domestic Gross</th>\n",
       "      <th>Worldwide Gross</th>\n",
       "    </tr>\n",
       "  </thead>\n",
       "  <tbody>\n",
       "    <tr>\n",
       "      <th>0</th>\n",
       "      <td>4/23/2019</td>\n",
       "      <td>Avengers: Endgame</td>\n",
       "      <td>400000000</td>\n",
       "      <td>858373000</td>\n",
       "      <td>2797800564</td>\n",
       "    </tr>\n",
       "    <tr>\n",
       "      <th>1</th>\n",
       "      <td>5/20/2011</td>\n",
       "      <td>Pirates of the Caribbean: On Stranger Tides</td>\n",
       "      <td>379000000</td>\n",
       "      <td>241071802</td>\n",
       "      <td>1045713802</td>\n",
       "    </tr>\n",
       "    <tr>\n",
       "      <th>2</th>\n",
       "      <td>4/22/2015</td>\n",
       "      <td>Avengers: Age of Ultron</td>\n",
       "      <td>365000000</td>\n",
       "      <td>459005868</td>\n",
       "      <td>1395316979</td>\n",
       "    </tr>\n",
       "    <tr>\n",
       "      <th>3</th>\n",
       "      <td>12/16/2015</td>\n",
       "      <td>Star Wars Ep. VII: The Force Awakens</td>\n",
       "      <td>306000000</td>\n",
       "      <td>936662225</td>\n",
       "      <td>2064615817</td>\n",
       "    </tr>\n",
       "    <tr>\n",
       "      <th>4</th>\n",
       "      <td>4/25/2018</td>\n",
       "      <td>Avengers: Infinity War</td>\n",
       "      <td>300000000</td>\n",
       "      <td>678815482</td>\n",
       "      <td>2044540523</td>\n",
       "    </tr>\n",
       "  </tbody>\n",
       "</table>\n",
       "</div>"
      ],
      "text/plain": [
       "  Release Date                                  Movie Title  \\\n",
       "0    4/23/2019                            Avengers: Endgame   \n",
       "1    5/20/2011  Pirates of the Caribbean: On Stranger Tides   \n",
       "2    4/22/2015                      Avengers: Age of Ultron   \n",
       "3   12/16/2015         Star Wars Ep. VII: The Force Awakens   \n",
       "4    4/25/2018                       Avengers: Infinity War   \n",
       "\n",
       "   Production Budget  Domestic Gross  Worldwide Gross  \n",
       "0          400000000       858373000       2797800564  \n",
       "1          379000000       241071802       1045713802  \n",
       "2          365000000       459005868       1395316979  \n",
       "3          306000000       936662225       2064615817  \n",
       "4          300000000       678815482       2044540523  "
      ]
     },
     "execution_count": 10,
     "metadata": {},
     "output_type": "execute_result"
    }
   ],
   "source": [
    "df.head()"
   ]
  },
  {
   "cell_type": "markdown",
   "id": "9995e085",
   "metadata": {},
   "source": [
    "#### Top 20 Production Budget Movies of All Time"
   ]
  },
  {
   "cell_type": "code",
   "execution_count": 55,
   "id": "f3471d86",
   "metadata": {},
   "outputs": [
    {
     "data": {
      "image/png": "[encoded data removed]",
      "text/plain": [
       "<Figure size 864x504 with 1 Axes>"
      ]
     },
     "metadata": {
      "needs_background": "light"
     },
     "output_type": "display_data"
    }
   ],
   "source": [
    "# Taking top 20 movies by Production Budget\n",
    "df_prodBudget = df.sort_values(by='Production Budget', ascending=False).head(20)\n",
    "df_prodBudget = df_prodBudget.sort_values(by='Production Budget')\n",
    "\n",
    "plt.figure(figsize=(12, 7))\n",
    "plt.barh(df_prodBudget['Movie Title'], df_prodBudget['Production Budget'], color='tab:gray')\n",
    "plt.title('Top 20 Movies by Production Budget', fontsize=14)\n",
    "plt.ticklabel_format(axis='x', style='plain') # -> axis X change style from scientific format into plain \n",
    "plt.xlabel('Production Budget', fontsize=10)\n",
    "plt.ylabel('Movie Name', fontsize=10)\n",
    "plt.show()"
   ]
  },
  {
   "cell_type": "markdown",
   "id": "b98c8ab3",
   "metadata": {},
   "source": [
    "#### Top 20 Domestic Gross Movies of All Time"
   ]
  },
  {
   "cell_type": "code",
   "execution_count": 42,
   "id": "6904ca64",
   "metadata": {},
   "outputs": [
    {
     "data": {
      "image/png": "[encoded data removed]",
      "text/plain": [
       "<Figure size 864x504 with 1 Axes>"
      ]
     },
     "metadata": {
      "needs_background": "light"
     },
     "output_type": "display_data"
    }
   ],
   "source": [
    "# Taking top 20 movies by Domestic Gross\n",
    "df_domestic_gross = df.sort_values(by='Domestic Gross', ascending=False).head(20)\n",
    "df_domestic_gross = df_domestic_gross.sort_values(by='Domestic Gross')\n",
    "\n",
    "plt.figure(figsize=(12, 7))\n",
    "plt.barh(df_domestic_gross['Movie Title'], df_domestic_gross['Domestic Gross'], color='tab:blue')\n",
    "plt.title('Top 20 Movies by Domestic Gross', fontsize=14)\n",
    "plt.ticklabel_format(axis='x', style='plain') # -> axis X change style from scientific format into plain \n",
    "plt.xlabel('Domestic Gross', fontsize=10)\n",
    "plt.ylabel('Movie Name', fontsize=10)\n",
    "plt.show()"
   ]
  },
  {
   "cell_type": "markdown",
   "id": "994ab3fb",
   "metadata": {},
   "source": [
    "#### Top 20 Worldwide Gross Movies of All Time"
   ]
  },
  {
   "cell_type": "code",
   "execution_count": 47,
   "id": "80b298c1",
   "metadata": {},
   "outputs": [
    {
     "data": {
      "image/png": "[encoded data removed]",
      "text/plain": [
       "<Figure size 864x504 with 1 Axes>"
      ]
     },
     "metadata": {
      "needs_background": "light"
     },
     "output_type": "display_data"
    }
   ],
   "source": [
    "# Taking top 20 movies by Worldwide Gross\n",
    "df_ww_gross = df.sort_values(by='Worldwide Gross', ascending=False).head(20)\n",
    "df_ww_gross = df_ww_gross.sort_values(by='Worldwide Gross')\n",
    "\n",
    "plt.figure(figsize=(12, 7))\n",
    "plt.barh(df_ww_gross['Movie Title'], df_ww_gross['Worldwide Gross'], color='tab:red')\n",
    "plt.title('Top 20 Movies by Worldwide Gross', fontsize=14)\n",
    "plt.ticklabel_format(axis='x', style='plain') # -> axis X change style from scientific format into plain \n",
    "plt.xlabel('Worldwide Gross', fontsize=10)\n",
    "plt.ylabel('Movie Name', fontsize=10)\n",
    "plt.show()"
   ]
  },
  {
   "cell_type": "code",
   "execution_count": null,
   "id": "a2a25a9f",
   "metadata": {},
   "outputs": [],
   "source": []
  }
 ],
 "metadata": {
  "kernelspec": {
   "display_name": "Python 3",
   "language": "python",
   "name": "python3"
  },
  "language_info": {
   "codemirror_mode": {
    "name": "ipython",
    "version": 3
   },
   "file_extension": ".py",
   "mimetype": "text/x-python",
   "name": "python",
   "nbconvert_exporter": "python",
   "pygments_lexer": "ipython3",
   "version": "3.8.8"
  }
 },
 "nbformat": 4,
 "nbformat_minor": 5
}
